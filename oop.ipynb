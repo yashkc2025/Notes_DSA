{
 "cells": [
  {
   "cell_type": "markdown",
   "metadata": {},
   "source": [
    "Below cell shows how items are declared"
   ]
  },
  {
   "cell_type": "code",
   "execution_count": 4,
   "metadata": {},
   "outputs": [
    {
     "name": "stdout",
     "output_type": "stream",
     "text": [
      "<class '__main__.Item'>\n",
      "<class 'str'>\n",
      "<class 'int'>\n",
      "<class 'int'>\n"
     ]
    }
   ],
   "source": [
    "class Item:\n",
    "    pass\n",
    "\n",
    "item1 = Item()\n",
    "item1.name = \"Phone\"\n",
    "item1.price = 100\n",
    "\n",
    "item1.quantity = 5\n",
    "\n",
    "#printing data types\n",
    "print(type(item1))\n",
    "print(type(item1.name))\n",
    "print(type(item1.price))\n",
    "print(type(item1.quantity))"
   ]
  },
  {
   "cell_type": "markdown",
   "metadata": {},
   "source": [
    "______\n",
    "Python always passes the **self** argument to a method as it cannot be 0 argument function to pass itself"
   ]
  },
  {
   "cell_type": "code",
   "execution_count": 5,
   "metadata": {},
   "outputs": [
    {
     "name": "stdout",
     "output_type": "stream",
     "text": [
      "500\n"
     ]
    }
   ],
   "source": [
    "class Item:\n",
    "    def calulate_total(self,x,y): #self always needed\n",
    "        return x * y\n",
    "\n",
    "item1 = Item()\n",
    "item1.name = \"Phone\"\n",
    "item1.price = 100\n",
    "\n",
    "item1.quantity = 5\n",
    "print(item1.calulate_total(item1.price, item1.quantity))"
   ]
  },
  {
   "cell_type": "markdown",
   "metadata": {},
   "source": [
    "________\n",
    "**`__init__`** fuction is used to define a constructor function. Functions of type **`__x__`** are called magic functions.\n",
    "\n",
    "`__init__` is called automatically\n",
    "\n",
    "`self.name = name` works the same as `item1.name = \"phone\"`\n",
    "\n",
    "**The argument doesn't necessarily need to be the same as self.x**"
   ]
  },
  {
   "cell_type": "code",
   "execution_count": 15,
   "metadata": {},
   "outputs": [
    {
     "name": "stdout",
     "output_type": "stream",
     "text": [
      "Phone\n",
      "Tablet\n",
      "100\n",
      "200\n",
      "5\n",
      "10\n"
     ]
    }
   ],
   "source": [
    "class Item:\n",
    "    def __init__(self, name, price, quant):\n",
    "        self.name = name\n",
    "        self.price = price\n",
    "        self.quantity = quant #The argument doesn't necessarily need to be the same as self.x\n",
    "\n",
    "    def calulate_total(self,x,y): #self always needed\n",
    "        return x * y\n",
    "\n",
    "item1 = Item(\"Phone\", 100, 5)\n",
    "item2 = Item(\"Tablet\", 200, 10)\n",
    "\n",
    "print(item1.name)\n",
    "print(item2.name)\n",
    "print(item1.price)\n",
    "print(item2.price)\n",
    "print(item1.quantity)\n",
    "print(item2.quantity)\n",
    "\n"
   ]
  },
  {
   "cell_type": "markdown",
   "metadata": {},
   "source": [
    "__________\n",
    "\n",
    "`def __init__(self, name, price, quant = 0):` shows that the default value of quant is 0 unless defined.\n",
    "\n",
    "__________\n",
    "\n",
    "The below table shows that self function can be used to pass values instead of passing them explicitly.\n",
    "<table>\n",
    "<tr>\n",
    "<td>\n",
    "\n",
    "```python\n",
    "def calulate_total(self,x,y): #self always needed\n",
    "        return x * y\n",
    "```\n",
    "\n",
    "</td>\n",
    "<td>\n",
    "\n",
    "```python\n",
    "def calulate_total(self): #self always needed\n",
    "        return self.quant * self.price\n",
    "```\n",
    "</td>\n",
    "</tr>\n",
    "\n",
    "</table>"
   ]
  }
 ],
 "metadata": {
  "kernelspec": {
   "display_name": "Python 3 (ipykernel)",
   "language": "python",
   "name": "python3"
  },
  "language_info": {
   "codemirror_mode": {
    "name": "ipython",
    "version": 3
   },
   "file_extension": ".py",
   "mimetype": "text/x-python",
   "name": "python",
   "nbconvert_exporter": "python",
   "pygments_lexer": "ipython3",
   "version": "3.9.12"
  },
  "vscode": {
   "interpreter": {
    "hash": "690fcc030dbde6f3f652c519b06a0d95da528e66105ed58c88e506e5818277cb"
   }
  }
 },
 "nbformat": 4,
 "nbformat_minor": 2
}
